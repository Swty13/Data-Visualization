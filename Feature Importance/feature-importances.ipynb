{
 "cells": [
  {
   "cell_type": "markdown",
   "id": "496d9263",
   "metadata": {
    "papermill": {
     "duration": 0.003396,
     "end_time": "2023-06-04T09:44:59.398316",
     "exception": false,
     "start_time": "2023-06-04T09:44:59.394920",
     "status": "completed"
    },
    "tags": []
   },
   "source": [
    "Data visualization plays a significant role in feature importance and feature selection by helping data scientists gain insights into the relationships between features and the target variable. Here's how data visualization aids in these tasks:\n",
    "\n",
    "**1. Feature Importance:** Decision trees and ensemble models (e.g., Random Forest, Gradient Boosting) provide built-in feature importance scores. Plotting these scores as a bar chart or a line graph helps identify the most influential features.\n",
    "\n",
    "**2. Feature Selection:** By setting a threshold on the feature importance scores, ML engineer can decide to keep only the top-ranking features and discard the rest. \n",
    "\n",
    "This helps in :\n",
    "\n",
    "\n",
    "    1. Reducing the dimensionality\n",
    "    2. Improving model performance and reducing overfitting\n",
    "    3. Reducing training time"
   ]
  },
  {
   "cell_type": "code",
   "execution_count": 1,
   "id": "23985bc7",
   "metadata": {
    "execution": {
     "iopub.execute_input": "2023-06-04T09:44:59.406472Z",
     "iopub.status.busy": "2023-06-04T09:44:59.405740Z",
     "iopub.status.idle": "2023-06-04T09:45:01.854742Z",
     "shell.execute_reply": "2023-06-04T09:45:01.853297Z"
    },
    "papermill": {
     "duration": 2.456749,
     "end_time": "2023-06-04T09:45:01.858076",
     "exception": false,
     "start_time": "2023-06-04T09:44:59.401327",
     "status": "completed"
    },
    "tags": []
   },
   "outputs": [],
   "source": [
    "# first import requirement libraries\n",
    "import pandas as pd\n",
    "import numpy as np\n",
    "import matplotlib.pyplot as plt\n",
    "import seaborn as sns\n",
    "from sklearn.model_selection import train_test_split\n",
    "from sklearn.ensemble import RandomForestClassifier\n",
    "\n",
    "# Optional\n",
    "# for filter warning\n",
    "from warnings import filterwarnings\n",
    "filterwarnings('ignore')"
   ]
  },
  {
   "cell_type": "code",
   "execution_count": 2,
   "id": "a8020b04",
   "metadata": {
    "execution": {
     "iopub.execute_input": "2023-06-04T09:45:01.866315Z",
     "iopub.status.busy": "2023-06-04T09:45:01.865929Z",
     "iopub.status.idle": "2023-06-04T09:45:01.913435Z",
     "shell.execute_reply": "2023-06-04T09:45:01.912147Z"
    },
    "papermill": {
     "duration": 0.055047,
     "end_time": "2023-06-04T09:45:01.916545",
     "exception": false,
     "start_time": "2023-06-04T09:45:01.861498",
     "status": "completed"
    },
    "tags": []
   },
   "outputs": [],
   "source": [
    "# import dataset \n",
    "df = pd.read_csv('../input/bank-loan-simple-dataset/example_dataset.csv')\n",
    "x = df.drop('Personal Loan', axis=1)\n",
    "y = df['Personal Loan']\n",
    "x_train, x_test, y_train, y_test = train_test_split(x, y, test_size=0.2, random_state=0)\n"
   ]
  },
  {
   "cell_type": "code",
   "execution_count": 3,
   "id": "df938773",
   "metadata": {
    "execution": {
     "iopub.execute_input": "2023-06-04T09:45:01.925078Z",
     "iopub.status.busy": "2023-06-04T09:45:01.924726Z",
     "iopub.status.idle": "2023-06-04T09:45:02.328243Z",
     "shell.execute_reply": "2023-06-04T09:45:02.326809Z"
    },
    "papermill": {
     "duration": 0.410846,
     "end_time": "2023-06-04T09:45:02.330967",
     "exception": false,
     "start_time": "2023-06-04T09:45:01.920121",
     "status": "completed"
    },
    "tags": []
   },
   "outputs": [
    {
     "data": {
      "text/html": [
       "<style>#sk-container-id-1 {color: black;background-color: white;}#sk-container-id-1 pre{padding: 0;}#sk-container-id-1 div.sk-toggleable {background-color: white;}#sk-container-id-1 label.sk-toggleable__label {cursor: pointer;display: block;width: 100%;margin-bottom: 0;padding: 0.3em;box-sizing: border-box;text-align: center;}#sk-container-id-1 label.sk-toggleable__label-arrow:before {content: \"▸\";float: left;margin-right: 0.25em;color: #696969;}#sk-container-id-1 label.sk-toggleable__label-arrow:hover:before {color: black;}#sk-container-id-1 div.sk-estimator:hover label.sk-toggleable__label-arrow:before {color: black;}#sk-container-id-1 div.sk-toggleable__content {max-height: 0;max-width: 0;overflow: hidden;text-align: left;background-color: #f0f8ff;}#sk-container-id-1 div.sk-toggleable__content pre {margin: 0.2em;color: black;border-radius: 0.25em;background-color: #f0f8ff;}#sk-container-id-1 input.sk-toggleable__control:checked~div.sk-toggleable__content {max-height: 200px;max-width: 100%;overflow: auto;}#sk-container-id-1 input.sk-toggleable__control:checked~label.sk-toggleable__label-arrow:before {content: \"▾\";}#sk-container-id-1 div.sk-estimator input.sk-toggleable__control:checked~label.sk-toggleable__label {background-color: #d4ebff;}#sk-container-id-1 div.sk-label input.sk-toggleable__control:checked~label.sk-toggleable__label {background-color: #d4ebff;}#sk-container-id-1 input.sk-hidden--visually {border: 0;clip: rect(1px 1px 1px 1px);clip: rect(1px, 1px, 1px, 1px);height: 1px;margin: -1px;overflow: hidden;padding: 0;position: absolute;width: 1px;}#sk-container-id-1 div.sk-estimator {font-family: monospace;background-color: #f0f8ff;border: 1px dotted black;border-radius: 0.25em;box-sizing: border-box;margin-bottom: 0.5em;}#sk-container-id-1 div.sk-estimator:hover {background-color: #d4ebff;}#sk-container-id-1 div.sk-parallel-item::after {content: \"\";width: 100%;border-bottom: 1px solid gray;flex-grow: 1;}#sk-container-id-1 div.sk-label:hover label.sk-toggleable__label {background-color: #d4ebff;}#sk-container-id-1 div.sk-serial::before {content: \"\";position: absolute;border-left: 1px solid gray;box-sizing: border-box;top: 0;bottom: 0;left: 50%;z-index: 0;}#sk-container-id-1 div.sk-serial {display: flex;flex-direction: column;align-items: center;background-color: white;padding-right: 0.2em;padding-left: 0.2em;position: relative;}#sk-container-id-1 div.sk-item {position: relative;z-index: 1;}#sk-container-id-1 div.sk-parallel {display: flex;align-items: stretch;justify-content: center;background-color: white;position: relative;}#sk-container-id-1 div.sk-item::before, #sk-container-id-1 div.sk-parallel-item::before {content: \"\";position: absolute;border-left: 1px solid gray;box-sizing: border-box;top: 0;bottom: 0;left: 50%;z-index: -1;}#sk-container-id-1 div.sk-parallel-item {display: flex;flex-direction: column;z-index: 1;position: relative;background-color: white;}#sk-container-id-1 div.sk-parallel-item:first-child::after {align-self: flex-end;width: 50%;}#sk-container-id-1 div.sk-parallel-item:last-child::after {align-self: flex-start;width: 50%;}#sk-container-id-1 div.sk-parallel-item:only-child::after {width: 0;}#sk-container-id-1 div.sk-dashed-wrapped {border: 1px dashed gray;margin: 0 0.4em 0.5em 0.4em;box-sizing: border-box;padding-bottom: 0.4em;background-color: white;}#sk-container-id-1 div.sk-label label {font-family: monospace;font-weight: bold;display: inline-block;line-height: 1.2em;}#sk-container-id-1 div.sk-label-container {text-align: center;}#sk-container-id-1 div.sk-container {/* jupyter's `normalize.less` sets `[hidden] { display: none; }` but bootstrap.min.css set `[hidden] { display: none !important; }` so we also need the `!important` here to be able to override the default hidden behavior on the sphinx rendered scikit-learn.org. See: https://github.com/scikit-learn/scikit-learn/issues/21755 */display: inline-block !important;position: relative;}#sk-container-id-1 div.sk-text-repr-fallback {display: none;}</style><div id=\"sk-container-id-1\" class=\"sk-top-container\"><div class=\"sk-text-repr-fallback\"><pre>RandomForestClassifier(random_state=0)</pre><b>In a Jupyter environment, please rerun this cell to show the HTML representation or trust the notebook. <br />On GitHub, the HTML representation is unable to render, please try loading this page with nbviewer.org.</b></div><div class=\"sk-container\" hidden><div class=\"sk-item\"><div class=\"sk-estimator sk-toggleable\"><input class=\"sk-toggleable__control sk-hidden--visually\" id=\"sk-estimator-id-1\" type=\"checkbox\" checked><label for=\"sk-estimator-id-1\" class=\"sk-toggleable__label sk-toggleable__label-arrow\">RandomForestClassifier</label><div class=\"sk-toggleable__content\"><pre>RandomForestClassifier(random_state=0)</pre></div></div></div></div></div>"
      ],
      "text/plain": [
       "RandomForestClassifier(random_state=0)"
      ]
     },
     "execution_count": 3,
     "metadata": {},
     "output_type": "execute_result"
    }
   ],
   "source": [
    "# create the classifier with n_estimators = 100\n",
    "clf = RandomForestClassifier(n_estimators=100, random_state=0)\n",
    "# fit the model to the training set\n",
    "\n",
    "clf.fit(x_train, y_train)"
   ]
  },
  {
   "cell_type": "code",
   "execution_count": 4,
   "id": "dd838ca9",
   "metadata": {
    "execution": {
     "iopub.execute_input": "2023-06-04T09:45:02.340178Z",
     "iopub.status.busy": "2023-06-04T09:45:02.339818Z",
     "iopub.status.idle": "2023-06-04T09:45:02.373761Z",
     "shell.execute_reply": "2023-06-04T09:45:02.371952Z"
    },
    "papermill": {
     "duration": 0.042729,
     "end_time": "2023-06-04T09:45:02.377323",
     "exception": false,
     "start_time": "2023-06-04T09:45:02.334594",
     "status": "completed"
    },
    "tags": []
   },
   "outputs": [
    {
     "name": "stdout",
     "output_type": "stream",
     "text": [
      "Model accuracy score with 100 decision-trees : 0.9850\n"
     ]
    }
   ],
   "source": [
    "# Predict on the test set results\n",
    "from sklearn.metrics import accuracy_score\n",
    "y_pred = clf.predict(x_test)\n",
    "\n",
    "# Check accuracy score \n",
    "print('Model accuracy score with 100 decision-trees : {0:0.4f}'. format(accuracy_score(y_test, y_pred)))"
   ]
  },
  {
   "cell_type": "markdown",
   "id": "27188e62",
   "metadata": {
    "papermill": {
     "duration": 0.003333,
     "end_time": "2023-06-04T09:45:02.384415",
     "exception": false,
     "start_time": "2023-06-04T09:45:02.381082",
     "status": "completed"
    },
    "tags": []
   },
   "source": [
    "Now, I will use the feature importance variable to see feature importance scores."
   ]
  },
  {
   "cell_type": "markdown",
   "id": "ef407b1f",
   "metadata": {
    "papermill": {
     "duration": 0.002954,
     "end_time": "2023-06-04T09:45:02.390887",
     "exception": false,
     "start_time": "2023-06-04T09:45:02.387933",
     "status": "completed"
    },
    "tags": []
   },
   "source": [
    "# Feature Importance"
   ]
  },
  {
   "cell_type": "markdown",
   "id": "a5915f0f",
   "metadata": {
    "papermill": {
     "duration": 0.002873,
     "end_time": "2023-06-04T09:45:02.396896",
     "exception": false,
     "start_time": "2023-06-04T09:45:02.394023",
     "status": "completed"
    },
    "tags": []
   },
   "source": [
    "### Random Forest  provide built-in feature importance scores"
   ]
  },
  {
   "cell_type": "code",
   "execution_count": 5,
   "id": "1f4c9822",
   "metadata": {
    "execution": {
     "iopub.execute_input": "2023-06-04T09:45:02.405100Z",
     "iopub.status.busy": "2023-06-04T09:45:02.404716Z",
     "iopub.status.idle": "2023-06-04T09:45:02.431200Z",
     "shell.execute_reply": "2023-06-04T09:45:02.429783Z"
    },
    "papermill": {
     "duration": 0.033744,
     "end_time": "2023-06-04T09:45:02.433769",
     "exception": false,
     "start_time": "2023-06-04T09:45:02.400025",
     "status": "completed"
    },
    "tags": []
   },
   "outputs": [
    {
     "data": {
      "text/plain": [
       "Income                0.463570\n",
       "Education             0.209831\n",
       "Family                0.126912\n",
       "Age                   0.065167\n",
       "CD Account            0.054142\n",
       "Mortgage              0.047819\n",
       "CreditCard            0.015329\n",
       "Online                0.011019\n",
       "Securities Account    0.006211\n",
       "dtype: float64"
      ]
     },
     "execution_count": 5,
     "metadata": {},
     "output_type": "execute_result"
    }
   ],
   "source": [
    "# view the feature scores\n",
    "\n",
    "feature_scores = pd.Series(clf.feature_importances_, index=x_train.columns).sort_values(ascending=False)\n",
    "\n",
    "feature_scores\n"
   ]
  },
  {
   "cell_type": "code",
   "execution_count": 6,
   "id": "3ad08b20",
   "metadata": {
    "execution": {
     "iopub.execute_input": "2023-06-04T09:45:02.443455Z",
     "iopub.status.busy": "2023-06-04T09:45:02.442971Z",
     "iopub.status.idle": "2023-06-04T09:45:02.737891Z",
     "shell.execute_reply": "2023-06-04T09:45:02.736415Z"
    },
    "papermill": {
     "duration": 0.302723,
     "end_time": "2023-06-04T09:45:02.740623",
     "exception": false,
     "start_time": "2023-06-04T09:45:02.437900",
     "status": "completed"
    },
    "tags": []
   },
   "outputs": [
    {
     "data": {
      "image/png": "[encoded data removed]",
      "text/plain": [
       "<Figure size 1000x500 with 1 Axes>"
      ]
     },
     "metadata": {},
     "output_type": "display_data"
    }
   ],
   "source": [
    "#Creating a seaborn bar plot\n",
    "f, ax = plt.subplots(figsize=(10, 5))\n",
    "ax = sns.barplot(x=clf.feature_importances_, y=feature_scores.index)\n",
    "ax.set_title(\"Visualize feature scores of the features\")\n",
    "ax.set_yticklabels(feature_scores.index)\n",
    "ax.set_xlabel(\"Feature importance score\")\n",
    "ax.set_ylabel(\"Features\")\n",
    "plt.show()\n",
    "\n",
    "# (pd.Series(clf.feature_importances_, index=feature_scores.index)\n",
    "#    .plot(kind='barh')) "
   ]
  }
 ],
 "metadata": {
  "kernelspec": {
   "display_name": "Python 3",
   "language": "python",
   "name": "python3"
  },
  "language_info": {
   "codemirror_mode": {
    "name": "ipython",
    "version": 3
   },
   "file_extension": ".py",
   "mimetype": "text/x-python",
   "name": "python",
   "nbconvert_exporter": "python",
   "pygments_lexer": "ipython3",
   "version": "3.10.10"
  },
  "papermill": {
   "default_parameters": {},
   "duration": 14.596483,
   "end_time": "2023-06-04T09:45:03.771477",
   "environment_variables": {},
   "exception": null,
   "input_path": "__notebook__.ipynb",
   "output_path": "__notebook__.ipynb",
   "parameters": {},
   "start_time": "2023-06-04T09:44:49.174994",
   "version": "2.4.0"
  }
 },
 "nbformat": 4,
 "nbformat_minor": 5
}
