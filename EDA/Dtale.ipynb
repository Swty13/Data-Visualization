{
  "nbformat": 4,
  "nbformat_minor": 0,
  "metadata": {
    "colab": {
      "provenance": []
    },
    "kernelspec": {
      "name": "python3",
      "display_name": "Python 3"
    },
    "language_info": {
      "name": "python"
    }
  },
  "cells": [
    {
      "cell_type": "markdown",
      "source": [
        "# Dtale\n",
        "D-Tale is a Python library that offers an interactive and visual interface for exploring and analyzing data. It provides a web-based GUI (graphical user interface) that allows users to visualize data, generate summary statistics, and perform advanced data manipulations. D-Tale supports various interactive visualizations, filtering capabilities, and export options, making it a useful tool for EDA tasks.\n",
        "\n",
        "Dataset: https://www.kaggle.com/datasets/uciml/breast-cancer-wisconsin-data?resource=download"
      ],
      "metadata": {
        "id": "-nm2KXc5Flhp"
      }
    },
    {
      "cell_type": "code",
      "source": [
        "# !pip install dtale"
      ],
      "metadata": {
        "id": "isCUwrlIFna3"
      },
      "execution_count": 2,
      "outputs": []
    },
    {
      "cell_type": "code",
      "source": [
        "from google.colab import drive\n",
        "drive.mount('/content/drive')"
      ],
      "metadata": {
        "colab": {
          "base_uri": "https://localhost:8080/"
        },
        "id": "mQQ1ZLK_FnoF",
        "outputId": "4c3e83af-05c5-47ad-fcb5-76cbece5ec0a"
      },
      "execution_count": 3,
      "outputs": [
        {
          "output_type": "stream",
          "name": "stdout",
          "text": [
            "Mounted at /content/drive\n"
          ]
        }
      ]
    },
    {
      "cell_type": "code",
      "source": [
        "import pandas as pd\n",
        "import dtale\n",
        "import dtale.app as dtale_app\n",
        "\n",
        "dtale_app.USE_COLAB = True "
      ],
      "metadata": {
        "id": "lDOnNSUeFnrF"
      },
      "execution_count": 9,
      "outputs": []
    },
    {
      "cell_type": "code",
      "source": [
        "df=pd.read_csv(\"/content/drive/My Drive/data.csv\")\n",
        "dtale.show(df)"
      ],
      "metadata": {
        "colab": {
          "base_uri": "https://localhost:8080/",
          "height": 34
        },
        "id": "8LT3OvFyFnuD",
        "outputId": "8617a212-a187-4269-b81e-9c71710a3965"
      },
      "execution_count": 10,
      "outputs": [
        {
          "output_type": "execute_result",
          "data": {
            "text/plain": [
              "https://hxwjdk31g37-496ff2e9c6d22116-40000-colab.googleusercontent.com/dtale/main/4"
            ]
          },
          "metadata": {},
          "execution_count": 10
        }
      ]
    }
  ]
}